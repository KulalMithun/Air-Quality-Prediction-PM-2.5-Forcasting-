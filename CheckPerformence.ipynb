{
 "cells": [
  {
   "cell_type": "code",
   "execution_count": 7,
   "id": "82b6fdf2-a6f8-45dc-8acc-b04e7141600e",
   "metadata": {},
   "outputs": [
    {
     "name": "stdout",
     "output_type": "stream",
     "text": [
      "Predicted Air Quality Value: 84.56107315463085\n"
     ]
    }
   ],
   "source": [
    "import pickle\n",
    "import numpy as np\n",
    "import warnings\n",
    "model_path = \"models/air_quality_model.pkl\"  \n",
    "scaler_path = \"models/scaler.pkl\" \n",
    "\n",
    "with open(model_path, \"rb\") as f:\n",
    "    model = pickle.load(f)\n",
    "\n",
    "with open(scaler_path, \"rb\") as f:\n",
    "    scaler = pickle.load(f)\n",
    "\n",
    "# Prepare the data as a list of lists\n",
    "data = [[87, 9.8, 6.8, 1017.6, 88.0, 76.5, 4.3, 78.4]]\n",
    "warnings.filterwarnings(\"ignore\")\n",
    "\n",
    "data_scaled = scaler.transform(data)\n",
    "\n",
    "prediction = model.predict(data_scaled)[0]\n",
    "\n",
    "print(\"Predicted Air Quality Value:\", prediction)"
   ]
  },
  {
   "cell_type": "code",
   "execution_count": null,
   "id": "1902647d-fdc3-474e-bbd8-1d934e34eaac",
   "metadata": {},
   "outputs": [],
   "source": []
  }
 ],
 "metadata": {
  "kernelspec": {
   "display_name": "Python 3 (ipykernel)",
   "language": "python",
   "name": "python3"
  },
  "language_info": {
   "codemirror_mode": {
    "name": "ipython",
    "version": 3
   },
   "file_extension": ".py",
   "mimetype": "text/x-python",
   "name": "python",
   "nbconvert_exporter": "python",
   "pygments_lexer": "ipython3",
   "version": "3.11.8"
  }
 },
 "nbformat": 4,
 "nbformat_minor": 5
}
